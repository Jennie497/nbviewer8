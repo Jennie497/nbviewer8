{
 "cells": [
  {
   "cell_type": "markdown",
   "metadata": {},
   "source": [
    "c331033 김윤진"
   ]
  },
  {
   "cell_type": "markdown",
   "metadata": {},
   "source": [
    "# 제어문"
   ]
  },
  {
   "cell_type": "code",
   "execution_count": 1,
   "metadata": {},
   "outputs": [
    {
     "name": "stdout",
     "output_type": "stream",
     "text": [
      "조건이 참입니다.\n",
      "조건문이 종료되었습니다.\n"
     ]
    }
   ],
   "source": [
    "if True: \n",
    "      print('조건이 참입니다.')\n",
    "\n",
    "print('조건문이 종료되었습니다.')"
   ]
  },
  {
   "cell_type": "code",
   "execution_count": 2,
   "metadata": {},
   "outputs": [
    {
     "name": "stdout",
     "output_type": "stream",
     "text": [
      "조건문이 종료되었습니다.\n"
     ]
    }
   ],
   "source": [
    "if False: \n",
    "      print('조건이 참입니다.')\n",
    "\n",
    "print('조건문이 종료되었습니다.')\n"
   ]
  },
  {
   "cell_type": "code",
   "execution_count": 3,
   "metadata": {},
   "outputs": [
    {
     "name": "stdout",
     "output_type": "stream",
     "text": [
      "걸어간다.\n"
     ]
    }
   ],
   "source": [
    "money =100\n",
    "\n",
    "if money <= 500:\n",
    "\n",
    "       print('걸어간다.')\n"
   ]
  },
  {
   "cell_type": "code",
   "execution_count": 4,
   "metadata": {},
   "outputs": [
    {
     "name": "stdout",
     "output_type": "stream",
     "text": [
      "택시탄다.\n"
     ]
    }
   ],
   "source": [
    "money = 1000\n",
    "\n",
    "if money <= 500:\n",
    "   print('걸어간다.') \n",
    "else:\n",
    "    print('택시탄다.')"
   ]
  },
  {
   "cell_type": "code",
   "execution_count": 5,
   "metadata": {},
   "outputs": [
    {
     "name": "stdout",
     "output_type": "stream",
     "text": [
      "버스탄다.\n"
     ]
    }
   ],
   "source": [
    "money = 1000\n",
    "\n",
    "if money <= 500:\n",
    "   print('걸어간다.') \n",
    "\n",
    "elif money <= 2500:\n",
    "    print('버스탄다.')\n",
    "\n",
    "else:\n",
    "    print('택시탄다.')"
   ]
  },
  {
   "cell_type": "code",
   "execution_count": 7,
   "metadata": {},
   "outputs": [
    {
     "name": "stdout",
     "output_type": "stream",
     "text": [
      "n= 1\n",
      "n= 2\n",
      "n= 3\n",
      "n= 4\n",
      "n= 5\n"
     ]
    }
   ],
   "source": [
    "n=0\n",
    "\n",
    "while n < 5:\n",
    "\n",
    "  n = n+1\n",
    "  print(\"n=\", n)"
   ]
  },
  {
   "cell_type": "code",
   "execution_count": 8,
   "metadata": {},
   "outputs": [
    {
     "name": "stdout",
     "output_type": "stream",
     "text": [
      "n= 0\n",
      "n= 1\n",
      "n= 2\n",
      "n= 3\n",
      "n= 4\n",
      "n= 5\n"
     ]
    }
   ],
   "source": [
    "for n in range(0,6):\n",
    "    print(\"n=\", n)\n"
   ]
  },
  {
   "cell_type": "code",
   "execution_count": 9,
   "metadata": {},
   "outputs": [
    {
     "name": "stdout",
     "output_type": "stream",
     "text": [
      "item = 1\n",
      "item = 2\n",
      "item = 3\n",
      "item = 4\n",
      "item = 5\n"
     ]
    }
   ],
   "source": [
    "x_list = [1, 2, 3, 4, 5]\n",
    "\n",
    "for item in x_list:\n",
    "    print(f'{item = }')\n"
   ]
  },
  {
   "cell_type": "code",
   "execution_count": 12,
   "metadata": {},
   "outputs": [
    {
     "name": "stdout",
     "output_type": "stream",
     "text": [
      "<built-in function len>(x) = 5\n",
      "<built-in function max>(x) = 50\n",
      "<built-in function sum>(x) = 150\n"
     ]
    }
   ],
   "source": [
    "x = [10,20,30,40,50]\n",
    "\n",
    "for method in [len, max, sum]:\n",
    "\n",
    "    print(f'{method}(x) = {method(x)}')\n",
    "\n"
   ]
  },
  {
   "cell_type": "code",
   "execution_count": 13,
   "metadata": {},
   "outputs": [
    {
     "name": "stdout",
     "output_type": "stream",
     "text": [
      "item = (0, 'a')\n",
      "item = (1, 'b')\n",
      "item = (2, 'c')\n",
      "item = (3, 'd')\n",
      "item = (4, 'e')\n"
     ]
    }
   ],
   "source": [
    "for item in enumerate(['a', 'b', 'c', 'd', 'e']):\n",
    "    print(f'{item = }')\n"
   ]
  },
  {
   "cell_type": "code",
   "execution_count": 14,
   "metadata": {},
   "outputs": [
    {
     "name": "stdout",
     "output_type": "stream",
     "text": [
      "i = 0, item = 'a'\n",
      "i = 1, item = 'b'\n",
      "i = 2, item = 'c'\n",
      "i = 3, item = 'd'\n",
      "i = 4, item = 'e'\n"
     ]
    }
   ],
   "source": [
    "for i, item in enumerate(['a', 'b', 'c', 'd', 'e']):\n",
    "    print(f'{i = }, {item = }')"
   ]
  },
  {
   "cell_type": "code",
   "execution_count": 15,
   "metadata": {},
   "outputs": [
    {
     "data": {
      "text/plain": [
       "<zip at 0x1665b7b6300>"
      ]
     },
     "execution_count": 15,
     "metadata": {},
     "output_type": "execute_result"
    }
   ],
   "source": [
    "x_list = [1, 2, 3, 4, 5]\n",
    "y_tuple = ('a', 'b', 'c', 'd', 'e')\n",
    "z_str = 'ABCDE'\n",
    "\n",
    "zip(x_list, y_tuple, z_str)"
   ]
  },
  {
   "cell_type": "code",
   "execution_count": 16,
   "metadata": {},
   "outputs": [
    {
     "data": {
      "text/plain": [
       "[(1, 'a', 'A'), (2, 'b', 'B'), (3, 'c', 'C'), (4, 'd', 'D'), (5, 'e', 'E')]"
      ]
     },
     "execution_count": 16,
     "metadata": {},
     "output_type": "execute_result"
    }
   ],
   "source": [
    "list(zip(x_list, y_tuple, z_str))"
   ]
  },
  {
   "cell_type": "code",
   "execution_count": 17,
   "metadata": {},
   "outputs": [
    {
     "name": "stdout",
     "output_type": "stream",
     "text": [
      "x = 1, y = 'a',z = 'A'\n",
      "x = 2, y = 'b',z = 'B'\n",
      "x = 3, y = 'c',z = 'C'\n",
      "x = 4, y = 'd',z = 'D'\n",
      "x = 5, y = 'e',z = 'E'\n"
     ]
    }
   ],
   "source": [
    "for x, y, z in zip(x_list, y_tuple, z_str):\n",
    "      print(f'{x = }, {y = },{z = }')"
   ]
  },
  {
   "cell_type": "code",
   "execution_count": 18,
   "metadata": {},
   "outputs": [
    {
     "name": "stdout",
     "output_type": "stream",
     "text": [
      "i = 0, x = 1, y = 'a',z = 'A'\n",
      "i = 1, x = 2, y = 'b',z = 'B'\n",
      "i = 2, x = 3, y = 'c',z = 'C'\n",
      "i = 3, x = 4, y = 'd',z = 'D'\n",
      "i = 4, x = 5, y = 'e',z = 'E'\n"
     ]
    }
   ],
   "source": [
    "for i, (x, y, z) in enumerate(zip(x_list, y_tuple, z_str)):\n",
    "      print(f'{i = }, {x = }, {y = },{z = }')"
   ]
  },
  {
   "cell_type": "code",
   "execution_count": 19,
   "metadata": {},
   "outputs": [
    {
     "name": "stdout",
     "output_type": "stream",
     "text": [
      "i = 0, item = 'a'\n",
      "i = 1, item = 'b'\n"
     ]
    }
   ],
   "source": [
    "for i, item in enumerate(['a', 'b', 'c', 'd', 'e']):\n",
    "\n",
    "      if i == 2:\n",
    "\n",
    "           break\n",
    "\n",
    "      print(f'{i = }, {item = }')\n"
   ]
  },
  {
   "cell_type": "code",
   "execution_count": 20,
   "metadata": {},
   "outputs": [
    {
     "name": "stdout",
     "output_type": "stream",
     "text": [
      "i = 0, item = 'a'\n",
      "i = 1, item = 'b'\n",
      "i = 3, item = 'd'\n",
      "i = 4, item = 'e'\n"
     ]
    }
   ],
   "source": [
    "for i, item in enumerate(['a', 'b', 'c', 'd', 'e']):\n",
    "\n",
    "      if i == 2:\n",
    "\n",
    "           continue\n",
    "\n",
    "      print(f'{i = }, {item = }')\n"
   ]
  },
  {
   "cell_type": "code",
   "execution_count": 21,
   "metadata": {},
   "outputs": [
    {
     "name": "stdout",
     "output_type": "stream",
     "text": [
      "i = 0, item = 'a'\n",
      "i = 1, item = 'b'\n",
      "i = 2, item = 'c'\n",
      "i = 3, item = 'd'\n",
      "i = 4, item = 'e'\n"
     ]
    }
   ],
   "source": [
    "for i, item in enumerate(['a', 'b', 'c', 'd', 'e']):\n",
    "\n",
    "      if i == 2:\n",
    "\n",
    "           pass\n",
    "\n",
    "      print(f'{i = }, {item = }')\n"
   ]
  },
  {
   "cell_type": "code",
   "execution_count": 22,
   "metadata": {},
   "outputs": [
    {
     "name": "stdout",
     "output_type": "stream",
     "text": [
      "i = 0, item = 'a'\n",
      "i = 1, item = 'b'\n",
      "여기에서 실제로는 종료됨. 편의를 위해 주석처리\n",
      "i = 2, item = 'c'\n",
      "i = 3, item = 'd'\n",
      "i = 4, item = 'e'\n"
     ]
    }
   ],
   "source": [
    "for i, item in enumerate(['a', 'b', 'c', 'd', 'e']):\n",
    "\n",
    "      if i == 2:\n",
    "\n",
    "         print('여기에서 실제로는 종료됨. 편의를 위해 주석처리')\n",
    "\n",
    "      print(f'{i = }, {item = }')\n",
    "\n"
   ]
  },
  {
   "cell_type": "code",
   "execution_count": 23,
   "metadata": {},
   "outputs": [
    {
     "name": "stdout",
     "output_type": "stream",
     "text": [
      "1x1= 1\t2x1= 2\t3x1= 3\t4x1= 4\t5x1= 5\t6x1= 6\t7x1= 7\t8x1= 8\t9x1= 9\t\n",
      "1x2= 2\t2x2= 4\t3x2= 6\t4x2= 8\t5x2=10\t6x2=12\t7x2=14\t8x2=16\t9x2=18\t\n",
      "1x3= 3\t2x3= 6\t3x3= 9\t4x3=12\t5x3=15\t6x3=18\t7x3=21\t8x3=24\t9x3=27\t\n",
      "1x4= 4\t2x4= 8\t3x4=12\t4x4=16\t5x4=20\t6x4=24\t7x4=28\t8x4=32\t9x4=36\t\n",
      "1x5= 5\t2x5=10\t3x5=15\t4x5=20\t5x5=25\t6x5=30\t7x5=35\t8x5=40\t9x5=45\t\n",
      "1x6= 6\t2x6=12\t3x6=18\t4x6=24\t5x6=30\t6x6=36\t7x6=42\t8x6=48\t9x6=54\t\n",
      "1x7= 7\t2x7=14\t3x7=21\t4x7=28\t5x7=35\t6x7=42\t7x7=49\t8x7=56\t9x7=63\t\n",
      "1x8= 8\t2x8=16\t3x8=24\t4x8=32\t5x8=40\t6x8=48\t7x8=56\t8x8=64\t9x8=72\t\n",
      "1x9= 9\t2x9=18\t3x9=27\t4x9=36\t5x9=45\t6x9=54\t7x9=63\t8x9=72\t9x9=81\t\n"
     ]
    }
   ],
   "source": [
    "for i in range(1, 10):\n",
    "\n",
    "      for j in range(1, 10):\n",
    "\n",
    "            print(f'{j}x{i}={j*i:>2d}', end='\\t')\n",
    "            if j == 9:\n",
    "\n",
    "               print()\n"
   ]
  },
  {
   "cell_type": "markdown",
   "metadata": {},
   "source": [
    "# 추가학습내용"
   ]
  },
  {
   "cell_type": "code",
   "execution_count": 1,
   "metadata": {},
   "outputs": [
    {
     "name": "stdout",
     "output_type": "stream",
     "text": [
      "파이썬을 수강한다.\n"
     ]
    }
   ],
   "source": [
    "학년 = 1\n",
    "if 학년 == 1:\n",
    "    print('파이썬을 수강한다.')\n",
    "elif 학년 == 2:\n",
    "    print('R 수강한다.')\n",
    "elif 학년 == 3:\n",
    "    print('관리회계 수강한다.')\n",
    "elif 학년 == 4:\n",
    "    print('졸업논문 수강한다.')\n",
    "else:\n",
    "    print('이제 졸업해야지...')"
   ]
  },
  {
   "cell_type": "markdown",
   "metadata": {},
   "source": [
    "1학년에 해당되어 파이썬을 수강한다.는 문구가 뜨게됨."
   ]
  },
  {
   "cell_type": "code",
   "execution_count": 2,
   "metadata": {},
   "outputs": [
    {
     "name": "stdout",
     "output_type": "stream",
     "text": [
      "이제 졸업해야지...\n"
     ]
    }
   ],
   "source": [
    "학년 = 2.5\n",
    "if 학년 == 1:\n",
    "    print('파이썬을 수강한다.')\n",
    "elif 학년 == 2:\n",
    "    print('R 수강한다.')\n",
    "elif 학년 == 3:\n",
    "    print('관리회계 수강한다.')\n",
    "elif 학년 == 4:\n",
    "    print('졸업논문 수강한다.')\n",
    "else:\n",
    "    print('이제 졸업해야지...')"
   ]
  },
  {
   "cell_type": "markdown",
   "metadata": {},
   "source": [
    "1,2,3,4 이외의 숫자인 2.5는 이제 졸업해야지라는 문구가 뜨면서 문맥 오류가 생김"
   ]
  },
  {
   "cell_type": "code",
   "execution_count": 3,
   "metadata": {},
   "outputs": [
    {
     "name": "stdout",
     "output_type": "stream",
     "text": [
      "R 수강한다.\n"
     ]
    }
   ],
   "source": [
    "학년 = 2.5\n",
    "if 학년 < 2:\n",
    "    print('파이썬을 수강한다.')\n",
    "elif 학년 < 3:\n",
    "    print('R 수강한다.')\n",
    "elif 학년 < 4:\n",
    "    print('관리회계 수강한다.')\n",
    "elif 학년 < 5:\n",
    "    print('졸업논문 수강한다.')\n",
    "else:\n",
    "    print('이제 졸업해야지...')"
   ]
  },
  {
   "cell_type": "markdown",
   "metadata": {},
   "source": [
    "부등호를 통해 문맥오류를 해결."
   ]
  },
  {
   "cell_type": "code",
   "execution_count": 1,
   "metadata": {},
   "outputs": [],
   "source": [
    "n = 5\n",
    "\n",
    "while n < 5:\n",
    "     n = n+1\n",
    "     print(\"n=\", n)"
   ]
  },
  {
   "cell_type": "markdown",
   "metadata": {},
   "source": [
    "조건에 맞지 않기 때문에 실행하지 않음."
   ]
  },
  {
   "cell_type": "code",
   "execution_count": 3,
   "metadata": {},
   "outputs": [
    {
     "name": "stdout",
     "output_type": "stream",
     "text": [
      "n= 0\n",
      "n= 1\n",
      "n= 2\n",
      "n= 3\n",
      "n= 4\n"
     ]
    }
   ],
   "source": [
    "n = 0\n",
    "\n",
    "while n < 5:\n",
    "\n",
    "     print(\"n=\", n)\n",
    "     n = n+1"
   ]
  },
  {
   "cell_type": "markdown",
   "metadata": {},
   "source": [
    "n = n+1과 print(\"n=\", n)의 순서만 바꿔도 출력값이 다름."
   ]
  },
  {
   "cell_type": "code",
   "execution_count": 4,
   "metadata": {},
   "outputs": [
    {
     "name": "stdout",
     "output_type": "stream",
     "text": [
      "n= 1\n",
      "n= 2\n",
      "n= 3\n",
      "n= 4\n",
      "n= 5\n"
     ]
    }
   ],
   "source": [
    "for n in range(0,5):\n",
    "    print('n=', n+1)"
   ]
  },
  {
   "cell_type": "markdown",
   "metadata": {},
   "source": [
    "0부터 4까지 n에 1을 더한 값을 출력."
   ]
  },
  {
   "cell_type": "code",
   "execution_count": 5,
   "metadata": {},
   "outputs": [
    {
     "name": "stdout",
     "output_type": "stream",
     "text": [
      "n= 1\n",
      "n= 2\n",
      "n= 3\n",
      "n= 4\n",
      "n= 5\n"
     ]
    }
   ],
   "source": [
    "for n in range(1,6):\n",
    "    print('n=', n)"
   ]
  },
  {
   "cell_type": "markdown",
   "metadata": {},
   "source": [
    "1부터 5까지 n을 출력."
   ]
  },
  {
   "cell_type": "code",
   "execution_count": 7,
   "metadata": {},
   "outputs": [
    {
     "data": {
      "text/plain": [
       "<enumerate at 0x20a94fd5fd0>"
      ]
     },
     "execution_count": 7,
     "metadata": {},
     "output_type": "execute_result"
    }
   ],
   "source": [
    "enumerate(['a', 'b', 'c', 'd', 'e'])\n",
    "\n"
   ]
  },
  {
   "cell_type": "markdown",
   "metadata": {},
   "source": [
    "enumerate 객체의 메모리 주소 출력."
   ]
  },
  {
   "cell_type": "code",
   "execution_count": 8,
   "metadata": {},
   "outputs": [
    {
     "data": {
      "text/plain": [
       "[(0, 'a'), (1, 'b'), (2, 'c'), (3, 'd'), (4, 'e')]"
      ]
     },
     "execution_count": 8,
     "metadata": {},
     "output_type": "execute_result"
    }
   ],
   "source": [
    "list(enumerate(['a', 'b', 'c', 'd', 'e']))"
   ]
  },
  {
   "cell_type": "markdown",
   "metadata": {},
   "source": [
    "인덱스와 원소들이 튜플로 묶임."
   ]
  },
  {
   "cell_type": "code",
   "execution_count": 9,
   "metadata": {},
   "outputs": [],
   "source": [
    "a = (1,2)"
   ]
  },
  {
   "cell_type": "code",
   "execution_count": 10,
   "metadata": {},
   "outputs": [
    {
     "data": {
      "text/plain": [
       "(1, 2)"
      ]
     },
     "execution_count": 10,
     "metadata": {},
     "output_type": "execute_result"
    }
   ],
   "source": [
    "a"
   ]
  },
  {
   "cell_type": "markdown",
   "metadata": {},
   "source": [
    "a가 튜플이 됨."
   ]
  },
  {
   "cell_type": "code",
   "execution_count": 11,
   "metadata": {},
   "outputs": [],
   "source": [
    "(b,c) = (1,2)"
   ]
  },
  {
   "cell_type": "code",
   "execution_count": 12,
   "metadata": {},
   "outputs": [
    {
     "data": {
      "text/plain": [
       "1"
      ]
     },
     "execution_count": 12,
     "metadata": {},
     "output_type": "execute_result"
    }
   ],
   "source": [
    "b"
   ]
  },
  {
   "cell_type": "code",
   "execution_count": 13,
   "metadata": {},
   "outputs": [
    {
     "data": {
      "text/plain": [
       "2"
      ]
     },
     "execution_count": 13,
     "metadata": {},
     "output_type": "execute_result"
    }
   ],
   "source": [
    "c"
   ]
  },
  {
   "cell_type": "markdown",
   "metadata": {},
   "source": [
    "튜플로 된것을 각각 받으면 원소별로 출력됨."
   ]
  },
  {
   "cell_type": "code",
   "execution_count": 14,
   "metadata": {},
   "outputs": [],
   "source": [
    "(b,c,d) = (1,2,3)"
   ]
  },
  {
   "cell_type": "code",
   "execution_count": 15,
   "metadata": {},
   "outputs": [
    {
     "data": {
      "text/plain": [
       "1"
      ]
     },
     "execution_count": 15,
     "metadata": {},
     "output_type": "execute_result"
    }
   ],
   "source": [
    "b"
   ]
  },
  {
   "cell_type": "code",
   "execution_count": 16,
   "metadata": {},
   "outputs": [
    {
     "data": {
      "text/plain": [
       "2"
      ]
     },
     "execution_count": 16,
     "metadata": {},
     "output_type": "execute_result"
    }
   ],
   "source": [
    "c"
   ]
  },
  {
   "cell_type": "code",
   "execution_count": 17,
   "metadata": {},
   "outputs": [
    {
     "data": {
      "text/plain": [
       "3"
      ]
     },
     "execution_count": 17,
     "metadata": {},
     "output_type": "execute_result"
    }
   ],
   "source": [
    "d"
   ]
  },
  {
   "cell_type": "markdown",
   "metadata": {},
   "source": [
    "튜플로 된것을 각각 받으면 원소별로 출력됨."
   ]
  },
  {
   "cell_type": "markdown",
   "metadata": {},
   "source": [
    "(b,c) = (1,2,3)는 에러, 자리는 두갠데 주는 값은 3개로 숫자가 맞지않아 에러 (원소별로 받을때 갯수를 잘 맞추기)"
   ]
  },
  {
   "cell_type": "code",
   "execution_count": 18,
   "metadata": {},
   "outputs": [
    {
     "data": {
      "text/plain": [
       "<zip at 0x20a94fff140>"
      ]
     },
     "execution_count": 18,
     "metadata": {},
     "output_type": "execute_result"
    }
   ],
   "source": [
    "x_list = [1, 2, 3]\n",
    "y_tuple = ('a', 'b', 'c', 'd', 'e')\n",
    "z_str = 'ABCDE'\n",
    "\n",
    "zip(x_list, y_tuple, z_str)"
   ]
  },
  {
   "cell_type": "code",
   "execution_count": 19,
   "metadata": {},
   "outputs": [
    {
     "data": {
      "text/plain": [
       "<zip at 0x20a94ffe4c0>"
      ]
     },
     "execution_count": 19,
     "metadata": {},
     "output_type": "execute_result"
    }
   ],
   "source": [
    "x_list = [1, 2, 3, 4, 5, 6, 7, 8, 9, 10]\n",
    "y_tuple = ('a', 'b', 'c', 'd', 'e')\n",
    "z_str = 'ABCDE'\n",
    "\n",
    "zip(x_list, y_tuple, z_str)"
   ]
  },
  {
   "cell_type": "markdown",
   "metadata": {},
   "source": [
    "결과 변화 없음, 인덱스 제일 짧은 쪽에 맞춰 바꿈."
   ]
  },
  {
   "cell_type": "code",
   "execution_count": 20,
   "metadata": {},
   "outputs": [],
   "source": [
    "(b,c) = 1,2"
   ]
  },
  {
   "cell_type": "code",
   "execution_count": 21,
   "metadata": {},
   "outputs": [
    {
     "data": {
      "text/plain": [
       "1"
      ]
     },
     "execution_count": 21,
     "metadata": {},
     "output_type": "execute_result"
    }
   ],
   "source": [
    "b"
   ]
  },
  {
   "cell_type": "code",
   "execution_count": null,
   "metadata": {},
   "outputs": [],
   "source": [
    "c"
   ]
  },
  {
   "cell_type": "code",
   "execution_count": null,
   "metadata": {},
   "outputs": [],
   "source": [
    "b,c = 1,2"
   ]
  },
  {
   "cell_type": "code",
   "execution_count": null,
   "metadata": {},
   "outputs": [],
   "source": [
    "b"
   ]
  },
  {
   "cell_type": "code",
   "execution_count": null,
   "metadata": {},
   "outputs": [],
   "source": [
    "c"
   ]
  },
  {
   "cell_type": "code",
   "execution_count": null,
   "metadata": {},
   "outputs": [],
   "source": [
    "b,c = (1,2)"
   ]
  },
  {
   "cell_type": "code",
   "execution_count": null,
   "metadata": {},
   "outputs": [],
   "source": [
    "b"
   ]
  },
  {
   "cell_type": "code",
   "execution_count": null,
   "metadata": {},
   "outputs": [],
   "source": [
    "c"
   ]
  },
  {
   "cell_type": "markdown",
   "metadata": {},
   "source": [
    "튜플은 괄호 없어도 성립함."
   ]
  },
  {
   "cell_type": "code",
   "execution_count": null,
   "metadata": {},
   "outputs": [],
   "source": [
    "b,c = [1,2]"
   ]
  },
  {
   "cell_type": "code",
   "execution_count": null,
   "metadata": {},
   "outputs": [],
   "source": [
    "b"
   ]
  },
  {
   "cell_type": "code",
   "execution_count": null,
   "metadata": {},
   "outputs": [],
   "source": [
    "c"
   ]
  },
  {
   "cell_type": "markdown",
   "metadata": {},
   "source": [
    "list도 받음."
   ]
  },
  {
   "cell_type": "markdown",
   "metadata": {},
   "source": [
    "for x, y in (zip(x_list, y_tuple, z_str)):\n",
    "      print(f'{x = }, {y = }, {z = }')는 에러, zip(x_list, y_tuple, z_str)은 3개의 요소로 된 튜플이지만 for x, y in ...은 각 요소가 2개짜리 튜플이어서 오류남."
   ]
  },
  {
   "cell_type": "markdown",
   "metadata": {},
   "source": [
    "for x, y, z, k in (zip(x_list, y_tuple, z_str)):\n",
    "      print(f'{x = }, {y = }, {z = }')는 에러, zip()에서 묶인 요소 수와 for 문에서 사용하는 변수 수는 항상 일치해야함."
   ]
  },
  {
   "cell_type": "code",
   "execution_count": 24,
   "metadata": {},
   "outputs": [
    {
     "data": {
      "text/plain": [
       "[(0, (1, 'a', 'A')),\n",
       " (1, (2, 'b', 'B')),\n",
       " (2, (3, 'c', 'C')),\n",
       " (3, (4, 'd', 'D')),\n",
       " (4, (5, 'e', 'E'))]"
      ]
     },
     "execution_count": 24,
     "metadata": {},
     "output_type": "execute_result"
    }
   ],
   "source": [
    "list(enumerate(zip(x_list, y_tuple, z_str)))"
   ]
  },
  {
   "cell_type": "markdown",
   "metadata": {},
   "source": [
    "zip(x_list, y_tuple, z_str)는 요소들을 묶어서 튜플로 만듦, enumerate는 zip 결과에 인덱스를 붙임, list는 enumerate 객체를 리스트로 변환함."
   ]
  },
  {
   "cell_type": "markdown",
   "metadata": {},
   "source": [
    "for i, x, y, z in enumerate(zip(x_list, y_tuple, z_str)):\n",
    "      print(f'{i = }, {x = }, {y = },{z = }')는 에러, (index, (x, y, z))인데 for i, x, y, z라고 쓰면 에러남."
   ]
  },
  {
   "cell_type": "code",
   "execution_count": 26,
   "metadata": {},
   "outputs": [
    {
     "name": "stdout",
     "output_type": "stream",
     "text": [
      "i = 0, x = (1, 'a', 'A')\n",
      "i = 1, x = (2, 'b', 'B')\n",
      "i = 2, x = (3, 'c', 'C')\n",
      "i = 3, x = (4, 'd', 'D')\n",
      "i = 4, x = (5, 'e', 'E')\n"
     ]
    }
   ],
   "source": [
    "for i, x in enumerate(zip(x_list, y_tuple, z_str)):\n",
    "      print(f'{i = }, {x = }')"
   ]
  },
  {
   "cell_type": "markdown",
   "metadata": {},
   "source": [
    "zip(x_list, y_tuple, z_str)는 튜플을 만듦, enumerate는 튜플에 대해 인덱스 i를 붙임. i는 인덱스, x는 (x_val, y_val, z_val) 튜플로 출력됨.\n"
   ]
  },
  {
   "cell_type": "code",
   "execution_count": 27,
   "metadata": {},
   "outputs": [
    {
     "name": "stdout",
     "output_type": "stream",
     "text": [
      "i = 0, item = 'a'\n",
      "for문을 빠져나왔습니다.\n",
      "i = 1, item = 'b'\n",
      "for문을 빠져나왔습니다.\n"
     ]
    }
   ],
   "source": [
    "for i, item in enumerate(['a', 'b', 'c', 'd', 'e']):\n",
    "\n",
    "      if i == 2:\n",
    "\n",
    "           break\n",
    "           print('나 브레이크야!')\n",
    "\n",
    "      print(f'{i = }, {item = }')\n",
    "      print('for문을 빠져나왔습니다.')"
   ]
  },
  {
   "cell_type": "markdown",
   "metadata": {},
   "source": []
  },
  {
   "cell_type": "code",
   "execution_count": 29,
   "metadata": {},
   "outputs": [
    {
     "name": "stdout",
     "output_type": "stream",
     "text": [
      "i = 0, item = 'a'\n",
      "for문을 빠져나왔습니다.\n",
      "i = 1, item = 'b'\n",
      "for문을 빠져나왔습니다.\n",
      "i = 3, item = 'd'\n",
      "for문을 빠져나왔습니다.\n",
      "i = 4, item = 'e'\n",
      "for문을 빠져나왔습니다.\n"
     ]
    }
   ],
   "source": [
    "for i, item in enumerate(['a', 'b', 'c', 'd', 'e']):\n",
    "\n",
    "      if i == 2:\n",
    "\n",
    "           continue\n",
    "           print('나 컨티뉴야!')\n",
    "\n",
    "      print(f'{i = }, {item = }')\n",
    "      \n",
    "      print('for문을 빠져나왔습니다.')"
   ]
  },
  {
   "cell_type": "markdown",
   "metadata": {},
   "source": []
  },
  {
   "cell_type": "code",
   "execution_count": 30,
   "metadata": {},
   "outputs": [
    {
     "name": "stdout",
     "output_type": "stream",
     "text": [
      "i = 0, item = 'a'\n",
      "for문을 빠져나왔습니다.\n",
      "i = 1, item = 'b'\n",
      "for문을 빠져나왔습니다.\n",
      "나 패스야!\n",
      "i = 2, item = 'c'\n",
      "for문을 빠져나왔습니다.\n",
      "i = 3, item = 'd'\n",
      "for문을 빠져나왔습니다.\n",
      "i = 4, item = 'e'\n",
      "for문을 빠져나왔습니다.\n"
     ]
    }
   ],
   "source": [
    "for i, item in enumerate(['a', 'b', 'c', 'd', 'e']):\n",
    "\n",
    "      if i == 2:\n",
    "\n",
    "           pass\n",
    "           print('나 패스야!')\n",
    "\n",
    "      print(f'{i = }, {item = }')\n",
    "      print('for문을 빠져나왔습니다.')"
   ]
  },
  {
   "cell_type": "markdown",
   "metadata": {},
   "source": []
  },
  {
   "cell_type": "markdown",
   "metadata": {},
   "source": [
    "for i, item in enumerate(['a', 'b', 'c', 'd', 'e']):\n",
    "\n",
    "      if i == 2:\n",
    "\n",
    "\n",
    "      print(f'{i = }, {item = }')\n",
    "      print('for문을 빠져나왔습니다.')는 에러, if문 다음 실행문 없음, if문과 print 라인이 같음."
   ]
  },
  {
   "cell_type": "code",
   "execution_count": null,
   "metadata": {},
   "outputs": [
    {
     "name": "stdout",
     "output_type": "stream",
     "text": [
      "i = 0, item = 'a'\n",
      "i = 1, item = 'b'\n",
      "여기에서 실제로는 종료됨. 편의를 위해 주석처리\n",
      "i = 2, item = 'c'\n",
      "i = 3, item = 'd'\n",
      "i = 4, item = 'e'\n"
     ]
    },
    {
     "ename": "",
     "evalue": "",
     "output_type": "error",
     "traceback": [
      "\u001b[1;31m현재 셀 또는 이전 셀에서 코드를 실행하는 동안 Kernel이 충돌했습니다. \n",
      "\u001b[1;31m셀의 코드를 검토하여 가능한 오류 원인을 식별하세요. \n",
      "\u001b[1;31m자세한 내용을 보려면 <a href='https://aka.ms/vscodeJupyterKernelCrash'>여기</a>를 클릭하세요. \n",
      "\u001b[1;31m자세한 내용은 Jupyter <a href='command:jupyter.viewOutput'>로그</a>를 참조하세요."
     ]
    }
   ],
   "source": [
    "for i, item in enumerate(['a', 'b', 'c', 'd', 'e']):\n",
    "\n",
    "      if i == 2:\n",
    "\n",
    "         exit(0)\n",
    "         print('여기에서 실제로는 종료됨. 편의를 위해 주석처리')\n",
    "\n",
    "      print(f'{i = }, {item = }')"
   ]
  },
  {
   "cell_type": "markdown",
   "metadata": {},
   "source": [
    "커널 다시 시작 -> 주피터 변수들이 메모리에서 다 날아간다는 뜻, '여기에서 실제로는 종료됨. 편의를 위해 주석처리' 이후에도 출력되는 이유는 exit(0)가 실행되는 동안 이미 실행됨, 시간차 때문임."
   ]
  },
  {
   "cell_type": "code",
   "execution_count": 1,
   "metadata": {},
   "outputs": [
    {
     "name": "stdout",
     "output_type": "stream",
     "text": [
      " 2x 2=  4 \t 4x 2=  8 \t 6x 2= 12 \t 8x 2= 16 \t10x 2= 20 \t12x 2= 24 \t14x 2= 28 \t16x 2= 32 \t18x 2= 36 \t20x 2= 40 \t\n",
      " 2x 4=  8 \t 4x 4= 16 \t 6x 4= 24 \t 8x 4= 32 \t10x 4= 40 \t12x 4= 48 \t14x 4= 56 \t16x 4= 64 \t18x 4= 72 \t20x 4= 80 \t\n",
      " 2x 6= 12 \t 4x 6= 24 \t 6x 6= 36 \t 8x 6= 48 \t10x 6= 60 \t12x 6= 72 \t14x 6= 84 \t16x 6= 96 \t18x 6=108 \t20x 6=120 \t\n",
      " 2x 8= 16 \t 4x 8= 32 \t 6x 8= 48 \t 8x 8= 64 \t10x 8= 80 \t12x 8= 96 \t14x 8=112 \t16x 8=128 \t18x 8=144 \t20x 8=160 \t\n",
      " 2x10= 20 \t 4x10= 40 \t 6x10= 60 \t 8x10= 80 \t10x10=100 \t12x10=120 \t14x10=140 \t16x10=160 \t18x10=180 \t20x10=200 \t\n",
      " 2x12= 24 \t 4x12= 48 \t 6x12= 72 \t 8x12= 96 \t10x12=120 \t12x12=144 \t14x12=168 \t16x12=192 \t18x12=216 \t20x12=240 \t\n",
      " 2x14= 28 \t 4x14= 56 \t 6x14= 84 \t 8x14=112 \t10x14=140 \t12x14=168 \t14x14=196 \t16x14=224 \t18x14=252 \t20x14=280 \t\n",
      " 2x16= 32 \t 4x16= 64 \t 6x16= 96 \t 8x16=128 \t10x16=160 \t12x16=192 \t14x16=224 \t16x16=256 \t18x16=288 \t20x16=320 \t\n",
      " 2x18= 36 \t 4x18= 72 \t 6x18=108 \t 8x18=144 \t10x18=180 \t12x18=216 \t14x18=252 \t16x18=288 \t18x18=324 \t20x18=360 \t\n",
      " 2x20= 40 \t 4x20= 80 \t 6x20=120 \t 8x20=160 \t10x20=200 \t12x20=240 \t14x20=280 \t16x20=320 \t18x20=360 \t20x20=400 \t\n"
     ]
    }
   ],
   "source": [
    "for i in range(2, 21, 2):\n",
    "\n",
    "      for j in range(2, 21, 2):\n",
    "\n",
    "            print(f'{j:>2d}x{i:>2d}={j*i:>3d}', end=' \\t')\n",
    "            if j == 20:\n",
    "\n",
    "               print()"
   ]
  },
  {
   "cell_type": "markdown",
   "metadata": {},
   "source": []
  },
  {
   "cell_type": "code",
   "execution_count": 2,
   "metadata": {},
   "outputs": [
    {
     "name": "stdout",
     "output_type": "stream",
     "text": [
      "20x20=400 \t18x20=360 \t16x20=320 \t14x20=280 \t12x20=240 \t10x20=200 \t 8x20=160 \t 6x20=120 \t 4x20= 80 \t 2x20= 40 \t\n",
      "20x18=360 \t18x18=324 \t16x18=288 \t14x18=252 \t12x18=216 \t10x18=180 \t 8x18=144 \t 6x18=108 \t 4x18= 72 \t 2x18= 36 \t\n",
      "20x16=320 \t18x16=288 \t16x16=256 \t14x16=224 \t12x16=192 \t10x16=160 \t 8x16=128 \t 6x16= 96 \t 4x16= 64 \t 2x16= 32 \t\n",
      "20x14=280 \t18x14=252 \t16x14=224 \t14x14=196 \t12x14=168 \t10x14=140 \t 8x14=112 \t 6x14= 84 \t 4x14= 56 \t 2x14= 28 \t\n",
      "20x12=240 \t18x12=216 \t16x12=192 \t14x12=168 \t12x12=144 \t10x12=120 \t 8x12= 96 \t 6x12= 72 \t 4x12= 48 \t 2x12= 24 \t\n",
      "20x10=200 \t18x10=180 \t16x10=160 \t14x10=140 \t12x10=120 \t10x10=100 \t 8x10= 80 \t 6x10= 60 \t 4x10= 40 \t 2x10= 20 \t\n",
      "20x 8=160 \t18x 8=144 \t16x 8=128 \t14x 8=112 \t12x 8= 96 \t10x 8= 80 \t 8x 8= 64 \t 6x 8= 48 \t 4x 8= 32 \t 2x 8= 16 \t\n",
      "20x 6=120 \t18x 6=108 \t16x 6= 96 \t14x 6= 84 \t12x 6= 72 \t10x 6= 60 \t 8x 6= 48 \t 6x 6= 36 \t 4x 6= 24 \t 2x 6= 12 \t\n",
      "20x 4= 80 \t18x 4= 72 \t16x 4= 64 \t14x 4= 56 \t12x 4= 48 \t10x 4= 40 \t 8x 4= 32 \t 6x 4= 24 \t 4x 4= 16 \t 2x 4=  8 \t\n",
      "20x 2= 40 \t18x 2= 36 \t16x 2= 32 \t14x 2= 28 \t12x 2= 24 \t10x 2= 20 \t 8x 2= 16 \t 6x 2= 12 \t 4x 2=  8 \t 2x 2=  4 \t\n"
     ]
    }
   ],
   "source": [
    "for i in range(20, 1, -2):\n",
    "\n",
    "      for j in range(20, 1, -2):\n",
    "\n",
    "            print(f'{j:>2d}x{i:>2d}={j*i:>3d}', end=' \\t')\n",
    "            if j == 2:\n",
    "\n",
    "               print()"
   ]
  },
  {
   "cell_type": "markdown",
   "metadata": {},
   "source": []
  }
 ],
 "metadata": {
  "kernelspec": {
   "display_name": "base",
   "language": "python",
   "name": "python3"
  },
  "language_info": {
   "codemirror_mode": {
    "name": "ipython",
    "version": 3
   },
   "file_extension": ".py",
   "mimetype": "text/x-python",
   "name": "python",
   "nbconvert_exporter": "python",
   "pygments_lexer": "ipython3",
   "version": "3.12.9"
  }
 },
 "nbformat": 4,
 "nbformat_minor": 2
}
